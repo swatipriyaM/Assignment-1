{
 "cells": [
  {
   "cell_type": "code",
   "execution_count": 2,
   "id": "16dcbffc",
   "metadata": {},
   "outputs": [],
   "source": [
    "import pandas as pd \n",
    "from scipy import stats\n",
    "from scipy.stats import norm"
   ]
  },
  {
   "cell_type": "code",
   "execution_count": 8,
   "id": "4b5c0d62",
   "metadata": {},
   "outputs": [
    {
     "data": {
      "text/plain": [
       "1.7108820799094275"
      ]
     },
     "execution_count": 8,
     "metadata": {},
     "output_type": "execute_result"
    }
   ],
   "source": [
    "#t-score of 95% confidence interval\n",
    "# sample space 25\n",
    "# df =n-1\n",
    "stats.t.ppf(0.95,24)"
   ]
  },
  {
   "cell_type": "code",
   "execution_count": 9,
   "id": "18c7204a",
   "metadata": {},
   "outputs": [
    {
     "data": {
      "text/plain": [
       "1.8280511719596342"
      ]
     },
     "execution_count": 9,
     "metadata": {},
     "output_type": "execute_result"
    }
   ],
   "source": [
    "#t-score of 96% confidence interval\n",
    "# sample space 25\n",
    "# df =n-1\n",
    "stats.t.ppf(0.96,24)"
   ]
  },
  {
   "cell_type": "code",
   "execution_count": 11,
   "id": "ea531d0f",
   "metadata": {},
   "outputs": [
    {
     "data": {
      "text/plain": [
       "2.4921594731575762"
      ]
     },
     "execution_count": 11,
     "metadata": {},
     "output_type": "execute_result"
    }
   ],
   "source": [
    "#t-score of 99% confidence interval\n",
    "# sample space 25\n",
    "# df =n-1\n",
    "stats.t.ppf(0.99,24)"
   ]
  },
  {
   "cell_type": "code",
   "execution_count": null,
   "id": "e33cc5c4",
   "metadata": {},
   "outputs": [],
   "source": []
  }
 ],
 "metadata": {
  "kernelspec": {
   "display_name": "Python 3 (ipykernel)",
   "language": "python",
   "name": "python3"
  },
  "language_info": {
   "codemirror_mode": {
    "name": "ipython",
    "version": 3
   },
   "file_extension": ".py",
   "mimetype": "text/x-python",
   "name": "python",
   "nbconvert_exporter": "python",
   "pygments_lexer": "ipython3",
   "version": "3.9.12"
  }
 },
 "nbformat": 4,
 "nbformat_minor": 5
}
